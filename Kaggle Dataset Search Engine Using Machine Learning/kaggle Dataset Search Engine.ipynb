{
 "cells": [
  {
   "cell_type": "markdown",
   "id": "b3f7c64d",
   "metadata": {},
   "source": [
    "Kaggle Dataset search engine"
   ]
  },
  {
   "cell_type": "code",
   "execution_count": 1,
   "id": "4919cc6c",
   "metadata": {},
   "outputs": [
    {
     "name": "stdout",
     "output_type": "stream",
     "text": [
      "Requirement already satisfied: tabulate in d:\\persnol_documents\\tools\\temp\\lib\\site-packages (0.9.0)\n"
     ]
    }
   ],
   "source": [
    "import pandas as pd\n",
    "import numpy as np\n",
    "import nltk\n",
    "import re\n",
    "from nltk.stem import PorterStemmer\n",
    "!pip install tabulate"
   ]
  },
  {
   "cell_type": "code",
   "execution_count": 2,
   "id": "2b795e26",
   "metadata": {},
   "outputs": [],
   "source": [
    "df=pd.read_csv(\"kaggle_datasets.csv\")"
   ]
  },
  {
   "cell_type": "code",
   "execution_count": 3,
   "id": "57816019",
   "metadata": {},
   "outputs": [
    {
     "data": {
      "text/html": [
       "<div>\n",
       "<style scoped>\n",
       "    .dataframe tbody tr th:only-of-type {\n",
       "        vertical-align: middle;\n",
       "    }\n",
       "\n",
       "    .dataframe tbody tr th {\n",
       "        vertical-align: top;\n",
       "    }\n",
       "\n",
       "    .dataframe thead th {\n",
       "        text-align: right;\n",
       "    }\n",
       "</style>\n",
       "<table border=\"1\" class=\"dataframe\">\n",
       "  <thead>\n",
       "    <tr style=\"text-align: right;\">\n",
       "      <th></th>\n",
       "      <th>title</th>\n",
       "      <th>description</th>\n",
       "      <th>url</th>\n",
       "      <th>owner</th>\n",
       "      <th>kernels</th>\n",
       "      <th>discussions</th>\n",
       "      <th>views</th>\n",
       "      <th>downloads</th>\n",
       "      <th>last_updated</th>\n",
       "      <th>license</th>\n",
       "      <th>size</th>\n",
       "      <th>featured</th>\n",
       "      <th>super_featured</th>\n",
       "      <th>upvotes</th>\n",
       "    </tr>\n",
       "  </thead>\n",
       "  <tbody>\n",
       "    <tr>\n",
       "      <th>0</th>\n",
       "      <td>Trending YouTube Video Statistics (UPDATED)</td>\n",
       "      <td>Daily statistics (views, likes, category, tags...</td>\n",
       "      <td>https://www.kaggle.com/datasnaek/youtube-new</td>\n",
       "      <td>Mitchell J</td>\n",
       "      <td>3</td>\n",
       "      <td>4</td>\n",
       "      <td>9484</td>\n",
       "      <td>1668</td>\n",
       "      <td>2018-01-16</td>\n",
       "      <td>CC0</td>\n",
       "      <td>35087677.0</td>\n",
       "      <td>1</td>\n",
       "      <td>0</td>\n",
       "      <td>46</td>\n",
       "    </tr>\n",
       "    <tr>\n",
       "      <th>1</th>\n",
       "      <td>7ecb8f4fe2ece9f4c8ffd23af10c310f</td>\n",
       "      <td>NaN</td>\n",
       "      <td>https://www.kaggle.com/veralei/7ecb8f4fe2ece9f...</td>\n",
       "      <td>Vera Lei</td>\n",
       "      <td>0</td>\n",
       "      <td>0</td>\n",
       "      <td>55</td>\n",
       "      <td>2</td>\n",
       "      <td>2018-01-16</td>\n",
       "      <td>Other</td>\n",
       "      <td>127264365.0</td>\n",
       "      <td>0</td>\n",
       "      <td>0</td>\n",
       "      <td>0</td>\n",
       "    </tr>\n",
       "    <tr>\n",
       "      <th>2</th>\n",
       "      <td>Atom Dataset</td>\n",
       "      <td>Dataset with atom features</td>\n",
       "      <td>https://www.kaggle.com/chfly2000/nomad2018-ato...</td>\n",
       "      <td>chfly2000</td>\n",
       "      <td>0</td>\n",
       "      <td>0</td>\n",
       "      <td>26</td>\n",
       "      <td>1</td>\n",
       "      <td>2018-01-16</td>\n",
       "      <td>Other</td>\n",
       "      <td>0.0</td>\n",
       "      <td>0</td>\n",
       "      <td>0</td>\n",
       "      <td>0</td>\n",
       "    </tr>\n",
       "    <tr>\n",
       "      <th>3</th>\n",
       "      <td>tmptmp</td>\n",
       "      <td>NaN</td>\n",
       "      <td>https://www.kaggle.com/ilyaivanchenko/tmptmp</td>\n",
       "      <td>snow2011</td>\n",
       "      <td>0</td>\n",
       "      <td>0</td>\n",
       "      <td>12</td>\n",
       "      <td>1</td>\n",
       "      <td>2018-01-16</td>\n",
       "      <td>CC0</td>\n",
       "      <td>1635900.0</td>\n",
       "      <td>0</td>\n",
       "      <td>0</td>\n",
       "      <td>0</td>\n",
       "    </tr>\n",
       "    <tr>\n",
       "      <th>4</th>\n",
       "      <td>Lab 1 Matrix</td>\n",
       "      <td>NaN</td>\n",
       "      <td>https://www.kaggle.com/tjb5670/lab-1-matrix</td>\n",
       "      <td>Tjb5670</td>\n",
       "      <td>0</td>\n",
       "      <td>0</td>\n",
       "      <td>7</td>\n",
       "      <td>1</td>\n",
       "      <td>2018-01-16</td>\n",
       "      <td>CC0</td>\n",
       "      <td>18.0</td>\n",
       "      <td>0</td>\n",
       "      <td>0</td>\n",
       "      <td>0</td>\n",
       "    </tr>\n",
       "  </tbody>\n",
       "</table>\n",
       "</div>"
      ],
      "text/plain": [
       "                                         title  \\\n",
       "0  Trending YouTube Video Statistics (UPDATED)   \n",
       "1             7ecb8f4fe2ece9f4c8ffd23af10c310f   \n",
       "2                                 Atom Dataset   \n",
       "3                                       tmptmp   \n",
       "4                                 Lab 1 Matrix   \n",
       "\n",
       "                                         description  \\\n",
       "0  Daily statistics (views, likes, category, tags...   \n",
       "1                                                NaN   \n",
       "2                         Dataset with atom features   \n",
       "3                                                NaN   \n",
       "4                                                NaN   \n",
       "\n",
       "                                                 url       owner  kernels  \\\n",
       "0       https://www.kaggle.com/datasnaek/youtube-new  Mitchell J        3   \n",
       "1  https://www.kaggle.com/veralei/7ecb8f4fe2ece9f...    Vera Lei        0   \n",
       "2  https://www.kaggle.com/chfly2000/nomad2018-ato...   chfly2000        0   \n",
       "3       https://www.kaggle.com/ilyaivanchenko/tmptmp    snow2011        0   \n",
       "4        https://www.kaggle.com/tjb5670/lab-1-matrix     Tjb5670        0   \n",
       "\n",
       "   discussions  views  downloads last_updated license         size  featured  \\\n",
       "0            4   9484       1668   2018-01-16     CC0   35087677.0         1   \n",
       "1            0     55          2   2018-01-16   Other  127264365.0         0   \n",
       "2            0     26          1   2018-01-16   Other          0.0         0   \n",
       "3            0     12          1   2018-01-16     CC0    1635900.0         0   \n",
       "4            0      7          1   2018-01-16     CC0         18.0         0   \n",
       "\n",
       "   super_featured  upvotes  \n",
       "0               0       46  \n",
       "1               0        0  \n",
       "2               0        0  \n",
       "3               0        0  \n",
       "4               0        0  "
      ]
     },
     "execution_count": 3,
     "metadata": {},
     "output_type": "execute_result"
    }
   ],
   "source": [
    "df.head()"
   ]
  },
  {
   "cell_type": "code",
   "execution_count": 4,
   "id": "a5e03e4d",
   "metadata": {},
   "outputs": [],
   "source": [
    "df=df.drop(df.loc[:,'kernels':'upvotes'].columns,axis=1)\n",
    "# we need first four columns only"
   ]
  },
  {
   "cell_type": "code",
   "execution_count": 5,
   "id": "6c87f0ef",
   "metadata": {},
   "outputs": [],
   "source": [
    "df=df.fillna(\" \")\n",
    "\n",
    "# To remove null values"
   ]
  },
  {
   "cell_type": "code",
   "execution_count": 6,
   "id": "199383c4",
   "metadata": {},
   "outputs": [],
   "source": [
    "df['text']=df['title']+\" \"+df['description']\n",
    "\n",
    "# combining title and description columns to form text column"
   ]
  },
  {
   "cell_type": "code",
   "execution_count": null,
   "id": "56eb56b2",
   "metadata": {},
   "outputs": [],
   "source": []
  },
  {
   "cell_type": "code",
   "execution_count": 7,
   "id": "c779b9bd",
   "metadata": {},
   "outputs": [
    {
     "name": "stderr",
     "output_type": "stream",
     "text": [
      "<ipython-input-7-51049e1c4ae7>:4: FutureWarning: The default value of regex will change from True to False in a future version.\n",
      "  df['text']=df[\"text\"].str.replace(\"[^a-zA-z0-9]\",\" \")\n"
     ]
    }
   ],
   "source": [
    "df['text']=df['text'].apply(lambda x: x.lower())\n",
    "# converting text to lowercase\n",
    "\n",
    "df['text']=df[\"text\"].str.replace(\"[^a-zA-z0-9]\",\" \")\n",
    "# removing character except from a to z, A to Z, 0 to 9, and \" \"(space)"
   ]
  },
  {
   "cell_type": "code",
   "execution_count": 8,
   "id": "d3c776cd",
   "metadata": {},
   "outputs": [],
   "source": [
    "def remove_noise(text,noise):\n",
    "    r=re.findall(noise,text)\n",
    "    for i in r:\n",
    "        text=re.sub(i,\"\",text)\n",
    "        \n",
    "    return text\n",
    "\n",
    "# function to remove noise from text"
   ]
  },
  {
   "cell_type": "code",
   "execution_count": 9,
   "id": "dca65b9e",
   "metadata": {},
   "outputs": [],
   "source": [
    "df['text']=np.vectorize(remove_noise)(df['text'],\"@[\\w]*\")\n",
    "df['text']=df['text'].apply(lambda x:re.sub(r\"http\\S+\\www\\S+|https\\S+\", \"\",x,flags=re.MULTILINE))\n",
    "\n",
    "# regular expression method to remove noise from text dataset"
   ]
  },
  {
   "cell_type": "code",
   "execution_count": 10,
   "id": "ce892933",
   "metadata": {},
   "outputs": [
    {
     "data": {
      "text/html": [
       "<div>\n",
       "<style scoped>\n",
       "    .dataframe tbody tr th:only-of-type {\n",
       "        vertical-align: middle;\n",
       "    }\n",
       "\n",
       "    .dataframe tbody tr th {\n",
       "        vertical-align: top;\n",
       "    }\n",
       "\n",
       "    .dataframe thead th {\n",
       "        text-align: right;\n",
       "    }\n",
       "</style>\n",
       "<table border=\"1\" class=\"dataframe\">\n",
       "  <thead>\n",
       "    <tr style=\"text-align: right;\">\n",
       "      <th></th>\n",
       "      <th>title</th>\n",
       "      <th>description</th>\n",
       "      <th>url</th>\n",
       "      <th>owner</th>\n",
       "      <th>text</th>\n",
       "    </tr>\n",
       "  </thead>\n",
       "  <tbody>\n",
       "    <tr>\n",
       "      <th>0</th>\n",
       "      <td>Trending YouTube Video Statistics (UPDATED)</td>\n",
       "      <td>Daily statistics (views, likes, category, tags...</td>\n",
       "      <td>https://www.kaggle.com/datasnaek/youtube-new</td>\n",
       "      <td>Mitchell J</td>\n",
       "      <td>trending youtube video statistics  updated  da...</td>\n",
       "    </tr>\n",
       "    <tr>\n",
       "      <th>1</th>\n",
       "      <td>7ecb8f4fe2ece9f4c8ffd23af10c310f</td>\n",
       "      <td></td>\n",
       "      <td>https://www.kaggle.com/veralei/7ecb8f4fe2ece9f...</td>\n",
       "      <td>Vera Lei</td>\n",
       "      <td>7ecb8f4fe2ece9f4c8ffd23af10c310f</td>\n",
       "    </tr>\n",
       "    <tr>\n",
       "      <th>2</th>\n",
       "      <td>Atom Dataset</td>\n",
       "      <td>Dataset with atom features</td>\n",
       "      <td>https://www.kaggle.com/chfly2000/nomad2018-ato...</td>\n",
       "      <td>chfly2000</td>\n",
       "      <td>atom dataset dataset with atom features</td>\n",
       "    </tr>\n",
       "    <tr>\n",
       "      <th>3</th>\n",
       "      <td>tmptmp</td>\n",
       "      <td></td>\n",
       "      <td>https://www.kaggle.com/ilyaivanchenko/tmptmp</td>\n",
       "      <td>snow2011</td>\n",
       "      <td>tmptmp</td>\n",
       "    </tr>\n",
       "    <tr>\n",
       "      <th>4</th>\n",
       "      <td>Lab 1 Matrix</td>\n",
       "      <td></td>\n",
       "      <td>https://www.kaggle.com/tjb5670/lab-1-matrix</td>\n",
       "      <td>Tjb5670</td>\n",
       "      <td>lab 1 matrix</td>\n",
       "    </tr>\n",
       "  </tbody>\n",
       "</table>\n",
       "</div>"
      ],
      "text/plain": [
       "                                         title  \\\n",
       "0  Trending YouTube Video Statistics (UPDATED)   \n",
       "1             7ecb8f4fe2ece9f4c8ffd23af10c310f   \n",
       "2                                 Atom Dataset   \n",
       "3                                       tmptmp   \n",
       "4                                 Lab 1 Matrix   \n",
       "\n",
       "                                         description  \\\n",
       "0  Daily statistics (views, likes, category, tags...   \n",
       "1                                                      \n",
       "2                         Dataset with atom features   \n",
       "3                                                      \n",
       "4                                                      \n",
       "\n",
       "                                                 url       owner  \\\n",
       "0       https://www.kaggle.com/datasnaek/youtube-new  Mitchell J   \n",
       "1  https://www.kaggle.com/veralei/7ecb8f4fe2ece9f...    Vera Lei   \n",
       "2  https://www.kaggle.com/chfly2000/nomad2018-ato...   chfly2000   \n",
       "3       https://www.kaggle.com/ilyaivanchenko/tmptmp    snow2011   \n",
       "4        https://www.kaggle.com/tjb5670/lab-1-matrix     Tjb5670   \n",
       "\n",
       "                                                text  \n",
       "0  trending youtube video statistics  updated  da...  \n",
       "1                 7ecb8f4fe2ece9f4c8ffd23af10c310f    \n",
       "2            atom dataset dataset with atom features  \n",
       "3                                           tmptmp    \n",
       "4                                     lab 1 matrix    "
      ]
     },
     "execution_count": 10,
     "metadata": {},
     "output_type": "execute_result"
    }
   ],
   "source": [
    "df.head()"
   ]
  },
  {
   "cell_type": "code",
   "execution_count": 11,
   "id": "e40a756e",
   "metadata": {},
   "outputs": [],
   "source": [
    "## Tokenization\n",
    "df['text']=df['text'].apply(lambda x:x.split())\n",
    "\n",
    "# spliting text into tokens"
   ]
  },
  {
   "cell_type": "code",
   "execution_count": 12,
   "id": "ba594144",
   "metadata": {},
   "outputs": [],
   "source": [
    "stopwords=['for','me', 'the', 'had', 'if', 'be', 'than', 'weren', 'after', 'are', 'because', 'ourselves', 'below', 'is', 'now', 'with', 'aren', 'here', 'nor', 'hadn', 'that', 'shan', 'all', 'yourselves', 'their', 'haven', 'herself', 'who', 'am', 'both', 'just', 'when', 'above', \"shouldn't\", 's', 'down', \"shan't\", 'doesn', 'to', 'through', \"you're\", 'from', 'myself', \"should've\", 'y', 'her', \"weren't\", 'until', 'then', 'own', 'wasn', 'we', 'its', 'at', 'how', 'under', 'other', 'are', 'why', 'of', 'can', 'which', 'so']"
   ]
  },
  {
   "cell_type": "code",
   "execution_count": 13,
   "id": "e47cc527",
   "metadata": {},
   "outputs": [],
   "source": [
    "for text in df['text']:\n",
    "    for word in text:\n",
    "        if word in stopwords:\n",
    "            text.remove(word)\n",
    "# removing stopwords"
   ]
  },
  {
   "cell_type": "code",
   "execution_count": null,
   "id": "e6ce86fe",
   "metadata": {},
   "outputs": [],
   "source": []
  },
  {
   "cell_type": "code",
   "execution_count": 14,
   "id": "68c96076",
   "metadata": {},
   "outputs": [],
   "source": [
    "df['text']=df['text'].str.join(\" \")\n",
    "\n",
    "# converting text in the form of tokens back to sentence form"
   ]
  },
  {
   "cell_type": "code",
   "execution_count": 15,
   "id": "d0eeede3",
   "metadata": {},
   "outputs": [],
   "source": [
    "# df['text'].head()\n",
    "def callfun():\n",
    "    search_list = sorted(list(enumerate(similarity[8036])),reverse=True,key=lambda x:x[1])[1:12]\n",
    "    matched_dataset=[]\n",
    "    j=0\n",
    "    for i in (search_list):\n",
    "        if(search_list[j][1]==0):\n",
    "            break;\n",
    "        j=j+1\n",
    "        results=[]\n",
    "        results.append(df.iloc[i[0]]['title'])\n",
    "        results.append((df.iloc[i[0]]['url']))\n",
    "\n",
    "        matched_dataset.append(results)\n",
    "\n",
    "    result_datasets=pd.DataFrame(matched_dataset,columns=['Dataset','URL'])\n",
    "\n",
    "\n",
    "    if(len(result_datasets)>0):\n",
    "        print(result_datasets.to_markdown())\n",
    "    else:\n",
    "        print(\"No result found\")\n",
    "\n",
    "# function that take input of dataset name to search and output relevant dataset"
   ]
  },
  {
   "cell_type": "code",
   "execution_count": 16,
   "id": "b8c32dfe",
   "metadata": {},
   "outputs": [],
   "source": [
    "from sklearn.feature_extraction.text import TfidfVectorizer \n",
    "from sklearn.metrics.pairwise import cosine_similarity\n",
    "\n",
    "# settings that you use for count vectorizer will go here "
   ]
  },
  {
   "cell_type": "code",
   "execution_count": 17,
   "id": "378bbcb8",
   "metadata": {},
   "outputs": [
    {
     "name": "stdout",
     "output_type": "stream",
     "text": [
      "Search Dataset Here :dataset for sentiment analysis\n",
      "|    | Dataset                               | URL                                                                    |\n",
      "|---:|:--------------------------------------|:-----------------------------------------------------------------------|\n",
      "|  0 | Sentiment Analysis                    | https://www.kaggle.com/varunkashyapks/sentiment-analysis               |\n",
      "|  1 | Sentiment Analysis Dataset            | https://www.kaggle.com/sonaam1234/sentimentdata                        |\n",
      "|  2 | movie-sentiment-analysis              | https://www.kaggle.com/yuhaowang/moviesentimentanalysis                |\n",
      "|  3 | IMDB Sentiment Analysis               | https://www.kaggle.com/kaushik3497/imdb-sentiment-analysis             |\n",
      "|  4 | Twitter Sentiment Analysis            | https://www.kaggle.com/nikhilparihar/twitter-sentiment-analysis        |\n",
      "|  5 | just for competition                  | https://www.kaggle.com/pavetr/portosegurotemp                          |\n",
      "|  6 | Sentence Polarity Dataset v1.0        | https://www.kaggle.com/nltkdata/sentence-polarity                      |\n",
      "|  7 | Opinion Lexicon                       | https://www.kaggle.com/nltkdata/opinion-lexicon                        |\n",
      "|  8 | Rare diseases - Sentiment analysis    | https://www.kaggle.com/natt77/rare-diseases-sentimient-analysis        |\n",
      "|  9 | Driver                                | https://www.kaggle.com/naveenbanda/driver                              |\n",
      "| 10 | Sentiment Labelled Sentences Data Set | https://www.kaggle.com/rahulin05/sentiment-labelled-sentences-data-set |\n"
     ]
    }
   ],
   "source": [
    "tfidf_vectorizer=TfidfVectorizer(use_idf=True) \n",
    "\n",
    "name=input(\"Search Dataset Here :\")\n",
    "\n",
    "dataset_name=pd.DataFrame({'title':\" \",\"description\":\" \",'url':' ','owner':' ','text':name},index=[8036])\n",
    "\n",
    "temp=df.append(dataset_name)\n",
    "\n",
    "temp=temp['text']\n",
    "\n",
    "tfidf_vectorizer_vectors=tfidf_vectorizer.fit_transform(temp)\n",
    "\n",
    "similarity=cosine_similarity(tfidf_vectorizer_vectors)\n",
    "\n",
    "callfun()\n"
   ]
  },
  {
   "cell_type": "code",
   "execution_count": null,
   "id": "fbea3d38",
   "metadata": {},
   "outputs": [],
   "source": []
  }
 ],
 "metadata": {
  "kernelspec": {
   "display_name": "Python 3",
   "language": "python",
   "name": "python3"
  },
  "language_info": {
   "codemirror_mode": {
    "name": "ipython",
    "version": 3
   },
   "file_extension": ".py",
   "mimetype": "text/x-python",
   "name": "python",
   "nbconvert_exporter": "python",
   "pygments_lexer": "ipython3",
   "version": "3.8.8"
  }
 },
 "nbformat": 4,
 "nbformat_minor": 5
}
