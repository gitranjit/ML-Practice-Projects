{
 "cells": [
  {
   "cell_type": "code",
   "execution_count": 1,
   "id": "b96d8363",
   "metadata": {},
   "outputs": [],
   "source": [
    "import pandas as pd\n",
    "import numpy as np\n",
    "\n",
    "import matplotlib.pyplot as plt\n",
    "%matplotlib inline\n",
    "\n",
    "import seaborn as sns"
   ]
  },
  {
   "cell_type": "code",
   "execution_count": 2,
   "id": "bcdbc8e6",
   "metadata": {},
   "outputs": [
    {
     "name": "stderr",
     "output_type": "stream",
     "text": [
      "[nltk_data] Downloading package punkt to\n",
      "[nltk_data]     C:\\Users\\Ranjit\\AppData\\Roaming\\nltk_data...\n",
      "[nltk_data]   Package punkt is already up-to-date!\n"
     ]
    }
   ],
   "source": [
    "import nltk\n",
    "nltk.download('punkt')\n",
    "from nltk.corpus import stopwords\n",
    "import string\n",
    "result = string.punctuation\n",
    "from nltk.stem.porter import PorterStemmer\n",
    "ps = PorterStemmer()"
   ]
  },
  {
   "cell_type": "code",
   "execution_count": 3,
   "id": "43c61bd3",
   "metadata": {},
   "outputs": [
    {
     "data": {
      "text/html": [
       "<div>\n",
       "<style scoped>\n",
       "    .dataframe tbody tr th:only-of-type {\n",
       "        vertical-align: middle;\n",
       "    }\n",
       "\n",
       "    .dataframe tbody tr th {\n",
       "        vertical-align: top;\n",
       "    }\n",
       "\n",
       "    .dataframe thead th {\n",
       "        text-align: right;\n",
       "    }\n",
       "</style>\n",
       "<table border=\"1\" class=\"dataframe\">\n",
       "  <thead>\n",
       "    <tr style=\"text-align: right;\">\n",
       "      <th></th>\n",
       "      <th>Movie Name</th>\n",
       "      <th>Release Period</th>\n",
       "      <th>Whether Remake</th>\n",
       "      <th>Whether Franchise</th>\n",
       "      <th>Genre</th>\n",
       "      <th>New Actor</th>\n",
       "      <th>New Director</th>\n",
       "      <th>New Music Director</th>\n",
       "      <th>Lead Star</th>\n",
       "      <th>Director</th>\n",
       "      <th>Music Director</th>\n",
       "      <th>Number of Screens</th>\n",
       "      <th>Revenue(INR)</th>\n",
       "      <th>Budget(INR)</th>\n",
       "    </tr>\n",
       "  </thead>\n",
       "  <tbody>\n",
       "    <tr>\n",
       "      <th>0</th>\n",
       "      <td>Golden Boys</td>\n",
       "      <td>Normal</td>\n",
       "      <td>No</td>\n",
       "      <td>No</td>\n",
       "      <td>suspense</td>\n",
       "      <td>Yes</td>\n",
       "      <td>No</td>\n",
       "      <td>No</td>\n",
       "      <td>Jeet Goswami</td>\n",
       "      <td>Ravi Varma</td>\n",
       "      <td>Baba Jagirdar</td>\n",
       "      <td>5</td>\n",
       "      <td>5000000</td>\n",
       "      <td>85000</td>\n",
       "    </tr>\n",
       "    <tr>\n",
       "      <th>1</th>\n",
       "      <td>Kaccha Limboo</td>\n",
       "      <td>Holiday</td>\n",
       "      <td>No</td>\n",
       "      <td>No</td>\n",
       "      <td>drama</td>\n",
       "      <td>Yes</td>\n",
       "      <td>No</td>\n",
       "      <td>Yes</td>\n",
       "      <td>Karan Bhanushali</td>\n",
       "      <td>Sagar Ballary</td>\n",
       "      <td>Amardeep Nijjer</td>\n",
       "      <td>75</td>\n",
       "      <td>15000000</td>\n",
       "      <td>825000</td>\n",
       "    </tr>\n",
       "    <tr>\n",
       "      <th>2</th>\n",
       "      <td>Not A Love Story</td>\n",
       "      <td>Holiday</td>\n",
       "      <td>No</td>\n",
       "      <td>No</td>\n",
       "      <td>thriller</td>\n",
       "      <td>No</td>\n",
       "      <td>No</td>\n",
       "      <td>No</td>\n",
       "      <td>Mahie Gill</td>\n",
       "      <td>Ram Gopal Verma</td>\n",
       "      <td>Sandeep Chowta</td>\n",
       "      <td>525</td>\n",
       "      <td>75000000</td>\n",
       "      <td>56700000</td>\n",
       "    </tr>\n",
       "    <tr>\n",
       "      <th>3</th>\n",
       "      <td>Qaidi Band</td>\n",
       "      <td>Holiday</td>\n",
       "      <td>No</td>\n",
       "      <td>No</td>\n",
       "      <td>drama</td>\n",
       "      <td>Yes</td>\n",
       "      <td>No</td>\n",
       "      <td>No</td>\n",
       "      <td>Aadar Jain</td>\n",
       "      <td>Habib Faisal</td>\n",
       "      <td>Amit Trivedi</td>\n",
       "      <td>800</td>\n",
       "      <td>210000000</td>\n",
       "      <td>4500000</td>\n",
       "    </tr>\n",
       "    <tr>\n",
       "      <th>4</th>\n",
       "      <td>Chaatwali</td>\n",
       "      <td>Holiday</td>\n",
       "      <td>No</td>\n",
       "      <td>No</td>\n",
       "      <td>adult</td>\n",
       "      <td>Yes</td>\n",
       "      <td>Yes</td>\n",
       "      <td>Yes</td>\n",
       "      <td>Aadil Khan</td>\n",
       "      <td>Aadil Khan</td>\n",
       "      <td>Babloo Ustad</td>\n",
       "      <td>1</td>\n",
       "      <td>1000000</td>\n",
       "      <td>1075000</td>\n",
       "    </tr>\n",
       "    <tr>\n",
       "      <th>...</th>\n",
       "      <td>...</td>\n",
       "      <td>...</td>\n",
       "      <td>...</td>\n",
       "      <td>...</td>\n",
       "      <td>...</td>\n",
       "      <td>...</td>\n",
       "      <td>...</td>\n",
       "      <td>...</td>\n",
       "      <td>...</td>\n",
       "      <td>...</td>\n",
       "      <td>...</td>\n",
       "      <td>...</td>\n",
       "      <td>...</td>\n",
       "      <td>...</td>\n",
       "    </tr>\n",
       "    <tr>\n",
       "      <th>1693</th>\n",
       "      <td>Fight Club</td>\n",
       "      <td>Holiday</td>\n",
       "      <td>No</td>\n",
       "      <td>No</td>\n",
       "      <td>action</td>\n",
       "      <td>No</td>\n",
       "      <td>Yes</td>\n",
       "      <td>No</td>\n",
       "      <td>Zayed Khan</td>\n",
       "      <td>Vikram Chopra</td>\n",
       "      <td>Pritam</td>\n",
       "      <td>375</td>\n",
       "      <td>82500000</td>\n",
       "      <td>88862500</td>\n",
       "    </tr>\n",
       "    <tr>\n",
       "      <th>1694</th>\n",
       "      <td>Strings Of Paasion</td>\n",
       "      <td>Normal</td>\n",
       "      <td>No</td>\n",
       "      <td>No</td>\n",
       "      <td>drama</td>\n",
       "      <td>No</td>\n",
       "      <td>Yes</td>\n",
       "      <td>Yes</td>\n",
       "      <td>Zeenat Aman</td>\n",
       "      <td>Sanghamitra Chaudhuri</td>\n",
       "      <td>Dev Sikdar</td>\n",
       "      <td>10</td>\n",
       "      <td>8000000</td>\n",
       "      <td>70000</td>\n",
       "    </tr>\n",
       "    <tr>\n",
       "      <th>1695</th>\n",
       "      <td>Dunno Y Na Jaane Kyun</td>\n",
       "      <td>Normal</td>\n",
       "      <td>No</td>\n",
       "      <td>No</td>\n",
       "      <td>drama</td>\n",
       "      <td>No</td>\n",
       "      <td>No</td>\n",
       "      <td>No</td>\n",
       "      <td>Zeenat Aman</td>\n",
       "      <td>Sanjay Sharma</td>\n",
       "      <td>Nikhil</td>\n",
       "      <td>20</td>\n",
       "      <td>12500000</td>\n",
       "      <td>850000</td>\n",
       "    </tr>\n",
       "    <tr>\n",
       "      <th>1696</th>\n",
       "      <td>Taj Mahal - An Eternal Love Story</td>\n",
       "      <td>Normal</td>\n",
       "      <td>No</td>\n",
       "      <td>No</td>\n",
       "      <td>drama</td>\n",
       "      <td>No</td>\n",
       "      <td>Yes</td>\n",
       "      <td>No</td>\n",
       "      <td>Zulfi Sayed</td>\n",
       "      <td>Akbar Khan</td>\n",
       "      <td>Naushad</td>\n",
       "      <td>135</td>\n",
       "      <td>100000000</td>\n",
       "      <td>31065000</td>\n",
       "    </tr>\n",
       "    <tr>\n",
       "      <th>1697</th>\n",
       "      <td>Mr. Hot Mr. Kool</td>\n",
       "      <td>Normal</td>\n",
       "      <td>No</td>\n",
       "      <td>No</td>\n",
       "      <td>comedy</td>\n",
       "      <td>No</td>\n",
       "      <td>No</td>\n",
       "      <td>Yes</td>\n",
       "      <td>Zulfi Sayed</td>\n",
       "      <td>Partho Ghosh</td>\n",
       "      <td>Rishi - Ranjit</td>\n",
       "      <td>30</td>\n",
       "      <td>27500000</td>\n",
       "      <td>1300000</td>\n",
       "    </tr>\n",
       "  </tbody>\n",
       "</table>\n",
       "<p>1698 rows × 14 columns</p>\n",
       "</div>"
      ],
      "text/plain": [
       "                             Movie Name Release Period Whether Remake  \\\n",
       "0                           Golden Boys         Normal             No   \n",
       "1                         Kaccha Limboo        Holiday             No   \n",
       "2                      Not A Love Story        Holiday             No   \n",
       "3                            Qaidi Band        Holiday             No   \n",
       "4                             Chaatwali        Holiday             No   \n",
       "...                                 ...            ...            ...   \n",
       "1693                         Fight Club        Holiday             No   \n",
       "1694                 Strings Of Paasion         Normal             No   \n",
       "1695              Dunno Y Na Jaane Kyun         Normal             No   \n",
       "1696  Taj Mahal - An Eternal Love Story         Normal             No   \n",
       "1697                   Mr. Hot Mr. Kool         Normal             No   \n",
       "\n",
       "     Whether Franchise     Genre New Actor New Director New Music Director  \\\n",
       "0                   No  suspense       Yes           No                 No   \n",
       "1                   No     drama       Yes           No                Yes   \n",
       "2                   No  thriller        No           No                 No   \n",
       "3                   No     drama       Yes           No                 No   \n",
       "4                   No     adult       Yes          Yes                Yes   \n",
       "...                ...       ...       ...          ...                ...   \n",
       "1693                No    action        No          Yes                 No   \n",
       "1694                No     drama        No          Yes                Yes   \n",
       "1695                No     drama        No           No                 No   \n",
       "1696                No     drama        No          Yes                 No   \n",
       "1697                No    comedy        No           No                Yes   \n",
       "\n",
       "             Lead Star               Director   Music Director  \\\n",
       "0         Jeet Goswami             Ravi Varma    Baba Jagirdar   \n",
       "1     Karan Bhanushali          Sagar Ballary  Amardeep Nijjer   \n",
       "2           Mahie Gill        Ram Gopal Verma   Sandeep Chowta   \n",
       "3           Aadar Jain           Habib Faisal     Amit Trivedi   \n",
       "4           Aadil Khan             Aadil Khan     Babloo Ustad   \n",
       "...                ...                    ...              ...   \n",
       "1693        Zayed Khan          Vikram Chopra           Pritam   \n",
       "1694       Zeenat Aman  Sanghamitra Chaudhuri       Dev Sikdar   \n",
       "1695       Zeenat Aman          Sanjay Sharma           Nikhil   \n",
       "1696       Zulfi Sayed             Akbar Khan          Naushad   \n",
       "1697       Zulfi Sayed           Partho Ghosh   Rishi - Ranjit   \n",
       "\n",
       "      Number of Screens  Revenue(INR)  Budget(INR)  \n",
       "0                     5       5000000        85000  \n",
       "1                    75      15000000       825000  \n",
       "2                   525      75000000     56700000  \n",
       "3                   800     210000000      4500000  \n",
       "4                     1       1000000      1075000  \n",
       "...                 ...           ...          ...  \n",
       "1693                375      82500000     88862500  \n",
       "1694                 10       8000000        70000  \n",
       "1695                 20      12500000       850000  \n",
       "1696                135     100000000     31065000  \n",
       "1697                 30      27500000      1300000  \n",
       "\n",
       "[1698 rows x 14 columns]"
      ]
     },
     "execution_count": 3,
     "metadata": {},
     "output_type": "execute_result"
    }
   ],
   "source": [
    "df = pd.read_csv('bollywoodmovies.csv')\n",
    "df"
   ]
  },
  {
   "cell_type": "code",
   "execution_count": null,
   "id": "67c81850",
   "metadata": {},
   "outputs": [],
   "source": []
  },
  {
   "cell_type": "code",
   "execution_count": 4,
   "id": "e5d8c2b4",
   "metadata": {},
   "outputs": [
    {
     "data": {
      "text/plain": [
       "Index(['Movie Name', 'Release Period', 'Whether Remake', 'Whether Franchise',\n",
       "       'Genre', 'New Actor', 'New Director', 'New Music Director', 'Lead Star',\n",
       "       'Director', 'Music Director', 'Number of Screens', 'Revenue(INR)',\n",
       "       'Budget(INR)'],\n",
       "      dtype='object')"
      ]
     },
     "execution_count": 4,
     "metadata": {},
     "output_type": "execute_result"
    }
   ],
   "source": [
    "df.columns"
   ]
  },
  {
   "cell_type": "code",
   "execution_count": 5,
   "id": "3b76f6e5",
   "metadata": {},
   "outputs": [
    {
     "data": {
      "text/html": [
       "<div>\n",
       "<style scoped>\n",
       "    .dataframe tbody tr th:only-of-type {\n",
       "        vertical-align: middle;\n",
       "    }\n",
       "\n",
       "    .dataframe tbody tr th {\n",
       "        vertical-align: top;\n",
       "    }\n",
       "\n",
       "    .dataframe thead th {\n",
       "        text-align: right;\n",
       "    }\n",
       "</style>\n",
       "<table border=\"1\" class=\"dataframe\">\n",
       "  <thead>\n",
       "    <tr style=\"text-align: right;\">\n",
       "      <th></th>\n",
       "      <th>Number of Screens</th>\n",
       "      <th>Revenue(INR)</th>\n",
       "      <th>Budget(INR)</th>\n",
       "    </tr>\n",
       "  </thead>\n",
       "  <tbody>\n",
       "    <tr>\n",
       "      <th>count</th>\n",
       "      <td>1698.000000</td>\n",
       "      <td>1.698000e+03</td>\n",
       "      <td>1.698000e+03</td>\n",
       "    </tr>\n",
       "    <tr>\n",
       "      <th>mean</th>\n",
       "      <td>553.831567</td>\n",
       "      <td>1.501674e+08</td>\n",
       "      <td>2.377287e+08</td>\n",
       "    </tr>\n",
       "    <tr>\n",
       "      <th>std</th>\n",
       "      <td>782.951839</td>\n",
       "      <td>2.434838e+08</td>\n",
       "      <td>6.134398e+08</td>\n",
       "    </tr>\n",
       "    <tr>\n",
       "      <th>min</th>\n",
       "      <td>1.000000</td>\n",
       "      <td>3.250000e+05</td>\n",
       "      <td>7.250000e+03</td>\n",
       "    </tr>\n",
       "    <tr>\n",
       "      <th>25%</th>\n",
       "      <td>30.000000</td>\n",
       "      <td>1.500000e+07</td>\n",
       "      <td>1.150000e+06</td>\n",
       "    </tr>\n",
       "    <tr>\n",
       "      <th>50%</th>\n",
       "      <td>200.000000</td>\n",
       "      <td>5.500000e+07</td>\n",
       "      <td>1.240000e+07</td>\n",
       "    </tr>\n",
       "    <tr>\n",
       "      <th>75%</th>\n",
       "      <td>800.000000</td>\n",
       "      <td>1.900000e+08</td>\n",
       "      <td>1.778325e+08</td>\n",
       "    </tr>\n",
       "    <tr>\n",
       "      <th>max</th>\n",
       "      <td>4600.000000</td>\n",
       "      <td>2.100000e+09</td>\n",
       "      <td>8.016120e+09</td>\n",
       "    </tr>\n",
       "  </tbody>\n",
       "</table>\n",
       "</div>"
      ],
      "text/plain": [
       "       Number of Screens  Revenue(INR)   Budget(INR)\n",
       "count        1698.000000  1.698000e+03  1.698000e+03\n",
       "mean          553.831567  1.501674e+08  2.377287e+08\n",
       "std           782.951839  2.434838e+08  6.134398e+08\n",
       "min             1.000000  3.250000e+05  7.250000e+03\n",
       "25%            30.000000  1.500000e+07  1.150000e+06\n",
       "50%           200.000000  5.500000e+07  1.240000e+07\n",
       "75%           800.000000  1.900000e+08  1.778325e+08\n",
       "max          4600.000000  2.100000e+09  8.016120e+09"
      ]
     },
     "execution_count": 5,
     "metadata": {},
     "output_type": "execute_result"
    }
   ],
   "source": [
    "df.describe()"
   ]
  },
  {
   "cell_type": "code",
   "execution_count": 6,
   "id": "9282ec79",
   "metadata": {},
   "outputs": [
    {
     "name": "stdout",
     "output_type": "stream",
     "text": [
      "<class 'pandas.core.frame.DataFrame'>\n",
      "RangeIndex: 1698 entries, 0 to 1697\n",
      "Data columns (total 14 columns):\n",
      " #   Column              Non-Null Count  Dtype \n",
      "---  ------              --------------  ----- \n",
      " 0   Movie Name          1698 non-null   object\n",
      " 1   Release Period      1698 non-null   object\n",
      " 2   Whether Remake      1698 non-null   object\n",
      " 3   Whether Franchise   1698 non-null   object\n",
      " 4   Genre               1698 non-null   object\n",
      " 5   New Actor           1698 non-null   object\n",
      " 6   New Director        1698 non-null   object\n",
      " 7   New Music Director  1698 non-null   object\n",
      " 8   Lead Star           1698 non-null   object\n",
      " 9   Director            1698 non-null   object\n",
      " 10  Music Director      1698 non-null   object\n",
      " 11  Number of Screens   1698 non-null   int64 \n",
      " 12  Revenue(INR)        1698 non-null   int64 \n",
      " 13  Budget(INR)         1698 non-null   int64 \n",
      "dtypes: int64(3), object(11)\n",
      "memory usage: 185.8+ KB\n"
     ]
    }
   ],
   "source": [
    " df.info()"
   ]
  },
  {
   "cell_type": "code",
   "execution_count": 7,
   "id": "dda95eb7",
   "metadata": {},
   "outputs": [
    {
     "data": {
      "text/plain": [
       "Movie Name            0\n",
       "Release Period        0\n",
       "Whether Remake        0\n",
       "Whether Franchise     0\n",
       "Genre                 0\n",
       "New Actor             0\n",
       "New Director          0\n",
       "New Music Director    0\n",
       "Lead Star             0\n",
       "Director              0\n",
       "Music Director        0\n",
       "Number of Screens     0\n",
       "Revenue(INR)          0\n",
       "Budget(INR)           0\n",
       "dtype: int64"
      ]
     },
     "execution_count": 7,
     "metadata": {},
     "output_type": "execute_result"
    }
   ],
   "source": [
    "df.isnull().sum()"
   ]
  },
  {
   "cell_type": "code",
   "execution_count": 8,
   "id": "89485f78",
   "metadata": {},
   "outputs": [],
   "source": [
    "# As there are fewer null values, it's better to drop these values\n",
    "df.dropna(inplace=True)"
   ]
  },
  {
   "cell_type": "code",
   "execution_count": 9,
   "id": "3a903804",
   "metadata": {},
   "outputs": [
    {
     "data": {
      "text/plain": [
       "Movie Name            0\n",
       "Release Period        0\n",
       "Whether Remake        0\n",
       "Whether Franchise     0\n",
       "Genre                 0\n",
       "New Actor             0\n",
       "New Director          0\n",
       "New Music Director    0\n",
       "Lead Star             0\n",
       "Director              0\n",
       "Music Director        0\n",
       "Number of Screens     0\n",
       "Revenue(INR)          0\n",
       "Budget(INR)           0\n",
       "dtype: int64"
      ]
     },
     "execution_count": 9,
     "metadata": {},
     "output_type": "execute_result"
    }
   ],
   "source": [
    "df.isnull().sum()"
   ]
  },
  {
   "cell_type": "code",
   "execution_count": 10,
   "id": "462bb673",
   "metadata": {},
   "outputs": [
    {
     "data": {
      "text/plain": [
       "2"
      ]
     },
     "execution_count": 10,
     "metadata": {},
     "output_type": "execute_result"
    }
   ],
   "source": [
    "df.duplicated().sum()"
   ]
  },
  {
   "cell_type": "code",
   "execution_count": 11,
   "id": "f7c08c1e",
   "metadata": {},
   "outputs": [],
   "source": [
    "# dropping duplicat records\n",
    "# df.drop_duplicates(keep = 'first',inplace=True)"
   ]
  },
  {
   "cell_type": "code",
   "execution_count": 12,
   "id": "929e82cb",
   "metadata": {},
   "outputs": [
    {
     "data": {
      "text/plain": [
       "2"
      ]
     },
     "execution_count": 12,
     "metadata": {},
     "output_type": "execute_result"
    }
   ],
   "source": [
    "df.duplicated().sum()"
   ]
  },
  {
   "cell_type": "code",
   "execution_count": 13,
   "id": "21c6712e",
   "metadata": {},
   "outputs": [
    {
     "data": {
      "text/plain": [
       "Index(['Movie Name', 'Release Period', 'Whether Remake', 'Whether Franchise',\n",
       "       'Genre', 'New Actor', 'New Director', 'New Music Director', 'Lead Star',\n",
       "       'Director', 'Music Director', 'Number of Screens', 'Revenue(INR)',\n",
       "       'Budget(INR)'],\n",
       "      dtype='object')"
      ]
     },
     "execution_count": 13,
     "metadata": {},
     "output_type": "execute_result"
    }
   ],
   "source": [
    "df.columns"
   ]
  },
  {
   "cell_type": "code",
   "execution_count": 14,
   "id": "6916834c",
   "metadata": {},
   "outputs": [],
   "source": [
    "# removing columns that are not required\n",
    "df.drop(['Release Period','New Actor','New Music Director','New Director','Number of Screens', 'Revenue(INR)','Budget(INR)'],axis=1,inplace=True)"
   ]
  },
  {
   "cell_type": "code",
   "execution_count": 15,
   "id": "a3505205",
   "metadata": {},
   "outputs": [
    {
     "data": {
      "text/html": [
       "<div>\n",
       "<style scoped>\n",
       "    .dataframe tbody tr th:only-of-type {\n",
       "        vertical-align: middle;\n",
       "    }\n",
       "\n",
       "    .dataframe tbody tr th {\n",
       "        vertical-align: top;\n",
       "    }\n",
       "\n",
       "    .dataframe thead th {\n",
       "        text-align: right;\n",
       "    }\n",
       "</style>\n",
       "<table border=\"1\" class=\"dataframe\">\n",
       "  <thead>\n",
       "    <tr style=\"text-align: right;\">\n",
       "      <th></th>\n",
       "      <th>Movie Name</th>\n",
       "      <th>Whether Remake</th>\n",
       "      <th>Whether Franchise</th>\n",
       "      <th>Genre</th>\n",
       "      <th>Lead Star</th>\n",
       "      <th>Director</th>\n",
       "      <th>Music Director</th>\n",
       "    </tr>\n",
       "  </thead>\n",
       "  <tbody>\n",
       "    <tr>\n",
       "      <th>1693</th>\n",
       "      <td>Fight Club</td>\n",
       "      <td>No</td>\n",
       "      <td>No</td>\n",
       "      <td>action</td>\n",
       "      <td>Zayed Khan</td>\n",
       "      <td>Vikram Chopra</td>\n",
       "      <td>Pritam</td>\n",
       "    </tr>\n",
       "    <tr>\n",
       "      <th>1694</th>\n",
       "      <td>Strings Of Paasion</td>\n",
       "      <td>No</td>\n",
       "      <td>No</td>\n",
       "      <td>drama</td>\n",
       "      <td>Zeenat Aman</td>\n",
       "      <td>Sanghamitra Chaudhuri</td>\n",
       "      <td>Dev Sikdar</td>\n",
       "    </tr>\n",
       "    <tr>\n",
       "      <th>1695</th>\n",
       "      <td>Dunno Y Na Jaane Kyun</td>\n",
       "      <td>No</td>\n",
       "      <td>No</td>\n",
       "      <td>drama</td>\n",
       "      <td>Zeenat Aman</td>\n",
       "      <td>Sanjay Sharma</td>\n",
       "      <td>Nikhil</td>\n",
       "    </tr>\n",
       "    <tr>\n",
       "      <th>1696</th>\n",
       "      <td>Taj Mahal - An Eternal Love Story</td>\n",
       "      <td>No</td>\n",
       "      <td>No</td>\n",
       "      <td>drama</td>\n",
       "      <td>Zulfi Sayed</td>\n",
       "      <td>Akbar Khan</td>\n",
       "      <td>Naushad</td>\n",
       "    </tr>\n",
       "    <tr>\n",
       "      <th>1697</th>\n",
       "      <td>Mr. Hot Mr. Kool</td>\n",
       "      <td>No</td>\n",
       "      <td>No</td>\n",
       "      <td>comedy</td>\n",
       "      <td>Zulfi Sayed</td>\n",
       "      <td>Partho Ghosh</td>\n",
       "      <td>Rishi - Ranjit</td>\n",
       "    </tr>\n",
       "  </tbody>\n",
       "</table>\n",
       "</div>"
      ],
      "text/plain": [
       "                             Movie Name Whether Remake Whether Franchise  \\\n",
       "1693                         Fight Club             No                No   \n",
       "1694                 Strings Of Paasion             No                No   \n",
       "1695              Dunno Y Na Jaane Kyun             No                No   \n",
       "1696  Taj Mahal - An Eternal Love Story             No                No   \n",
       "1697                   Mr. Hot Mr. Kool             No                No   \n",
       "\n",
       "       Genre    Lead Star               Director  Music Director  \n",
       "1693  action   Zayed Khan          Vikram Chopra          Pritam  \n",
       "1694   drama  Zeenat Aman  Sanghamitra Chaudhuri      Dev Sikdar  \n",
       "1695   drama  Zeenat Aman          Sanjay Sharma          Nikhil  \n",
       "1696   drama  Zulfi Sayed             Akbar Khan         Naushad  \n",
       "1697  comedy  Zulfi Sayed           Partho Ghosh  Rishi - Ranjit  "
      ]
     },
     "execution_count": 15,
     "metadata": {},
     "output_type": "execute_result"
    }
   ],
   "source": [
    "df.tail()"
   ]
  },
  {
   "cell_type": "code",
   "execution_count": null,
   "id": "2957c76c",
   "metadata": {},
   "outputs": [],
   "source": []
  },
  {
   "cell_type": "code",
   "execution_count": 16,
   "id": "94d52f7c",
   "metadata": {},
   "outputs": [],
   "source": [
    "# converting column with values so that appropriate vectors of tags can be created"
   ]
  },
  {
   "cell_type": "code",
   "execution_count": 17,
   "id": "2c6e667d",
   "metadata": {},
   "outputs": [],
   "source": [
    "i=0\n",
    "for word in df['Whether Remake']:\n",
    "    if word=='No':\n",
    "        df['Whether Remake'][i] = 'NotRemake'\n",
    "    else:\n",
    "        df['Whether Remake'][i] = 'Remake'\n",
    "    i+=1"
   ]
  },
  {
   "cell_type": "code",
   "execution_count": 18,
   "id": "cc0bcfac",
   "metadata": {},
   "outputs": [],
   "source": [
    "i=0\n",
    "for word in df['Whether Franchise']:\n",
    "    if word=='No':\n",
    "        df['Whether Franchise'][i] = 'Franchise'\n",
    "    else:\n",
    "        df['Whether Franchise'][i] = 'NotFranchise'\n",
    "    i+=1"
   ]
  },
  {
   "cell_type": "code",
   "execution_count": 19,
   "id": "be0415f9",
   "metadata": {},
   "outputs": [],
   "source": [
    "def tag(text):\n",
    "    s=\"\"\n",
    "    text = nltk.word_tokenize(text)\n",
    "    for word in text:\n",
    "        s+=word\n",
    "    return s"
   ]
  },
  {
   "cell_type": "code",
   "execution_count": 20,
   "id": "00425135",
   "metadata": {},
   "outputs": [],
   "source": [
    "df['Music Director'] = df['Music Director'].apply(lambda x:tag(x))"
   ]
  },
  {
   "cell_type": "code",
   "execution_count": 21,
   "id": "ef3ae0b8",
   "metadata": {},
   "outputs": [],
   "source": [
    "df['Director'] = df['Director'].apply(lambda x:tag(x))"
   ]
  },
  {
   "cell_type": "code",
   "execution_count": 22,
   "id": "b38bfa80",
   "metadata": {},
   "outputs": [],
   "source": [
    "df['Lead Star'] = df['Lead Star'].apply(lambda x:tag(x))"
   ]
  },
  {
   "cell_type": "code",
   "execution_count": 23,
   "id": "4c3d0a44",
   "metadata": {},
   "outputs": [
    {
     "data": {
      "text/html": [
       "<div>\n",
       "<style scoped>\n",
       "    .dataframe tbody tr th:only-of-type {\n",
       "        vertical-align: middle;\n",
       "    }\n",
       "\n",
       "    .dataframe tbody tr th {\n",
       "        vertical-align: top;\n",
       "    }\n",
       "\n",
       "    .dataframe thead th {\n",
       "        text-align: right;\n",
       "    }\n",
       "</style>\n",
       "<table border=\"1\" class=\"dataframe\">\n",
       "  <thead>\n",
       "    <tr style=\"text-align: right;\">\n",
       "      <th></th>\n",
       "      <th>Movie Name</th>\n",
       "      <th>Whether Remake</th>\n",
       "      <th>Whether Franchise</th>\n",
       "      <th>Genre</th>\n",
       "      <th>Lead Star</th>\n",
       "      <th>Director</th>\n",
       "      <th>Music Director</th>\n",
       "    </tr>\n",
       "  </thead>\n",
       "  <tbody>\n",
       "    <tr>\n",
       "      <th>0</th>\n",
       "      <td>Golden Boys</td>\n",
       "      <td>NotRemake</td>\n",
       "      <td>Franchise</td>\n",
       "      <td>suspense</td>\n",
       "      <td>JeetGoswami</td>\n",
       "      <td>RaviVarma</td>\n",
       "      <td>BabaJagirdar</td>\n",
       "    </tr>\n",
       "    <tr>\n",
       "      <th>1</th>\n",
       "      <td>Kaccha Limboo</td>\n",
       "      <td>NotRemake</td>\n",
       "      <td>Franchise</td>\n",
       "      <td>drama</td>\n",
       "      <td>KaranBhanushali</td>\n",
       "      <td>SagarBallary</td>\n",
       "      <td>AmardeepNijjer</td>\n",
       "    </tr>\n",
       "    <tr>\n",
       "      <th>2</th>\n",
       "      <td>Not A Love Story</td>\n",
       "      <td>NotRemake</td>\n",
       "      <td>Franchise</td>\n",
       "      <td>thriller</td>\n",
       "      <td>MahieGill</td>\n",
       "      <td>RamGopalVerma</td>\n",
       "      <td>SandeepChowta</td>\n",
       "    </tr>\n",
       "    <tr>\n",
       "      <th>3</th>\n",
       "      <td>Qaidi Band</td>\n",
       "      <td>NotRemake</td>\n",
       "      <td>Franchise</td>\n",
       "      <td>drama</td>\n",
       "      <td>AadarJain</td>\n",
       "      <td>HabibFaisal</td>\n",
       "      <td>AmitTrivedi</td>\n",
       "    </tr>\n",
       "    <tr>\n",
       "      <th>4</th>\n",
       "      <td>Chaatwali</td>\n",
       "      <td>NotRemake</td>\n",
       "      <td>Franchise</td>\n",
       "      <td>adult</td>\n",
       "      <td>AadilKhan</td>\n",
       "      <td>AadilKhan</td>\n",
       "      <td>BablooUstad</td>\n",
       "    </tr>\n",
       "  </tbody>\n",
       "</table>\n",
       "</div>"
      ],
      "text/plain": [
       "         Movie Name Whether Remake Whether Franchise     Genre  \\\n",
       "0       Golden Boys      NotRemake         Franchise  suspense   \n",
       "1     Kaccha Limboo      NotRemake         Franchise     drama   \n",
       "2  Not A Love Story      NotRemake         Franchise  thriller   \n",
       "3        Qaidi Band      NotRemake         Franchise     drama   \n",
       "4         Chaatwali      NotRemake         Franchise     adult   \n",
       "\n",
       "         Lead Star       Director  Music Director  \n",
       "0      JeetGoswami      RaviVarma    BabaJagirdar  \n",
       "1  KaranBhanushali   SagarBallary  AmardeepNijjer  \n",
       "2        MahieGill  RamGopalVerma   SandeepChowta  \n",
       "3        AadarJain    HabibFaisal     AmitTrivedi  \n",
       "4        AadilKhan      AadilKhan     BablooUstad  "
      ]
     },
     "execution_count": 23,
     "metadata": {},
     "output_type": "execute_result"
    }
   ],
   "source": [
    "df.head()"
   ]
  },
  {
   "cell_type": "code",
   "execution_count": 24,
   "id": "020ebb79",
   "metadata": {},
   "outputs": [
    {
     "data": {
      "text/plain": [
       "drama           639\n",
       "comedy          284\n",
       "thriller        212\n",
       "love_story      133\n",
       "action          127\n",
       "rom__com         95\n",
       "adult            78\n",
       "horror           53\n",
       "suspense         30\n",
       "masala           16\n",
       "mythological     14\n",
       "fantasy          13\n",
       "animation         3\n",
       "documentary       1\n",
       "Name: Genre, dtype: int64"
      ]
     },
     "execution_count": 24,
     "metadata": {},
     "output_type": "execute_result"
    }
   ],
   "source": [
    "df['Genre'].value_counts()"
   ]
  },
  {
   "cell_type": "code",
   "execution_count": 25,
   "id": "be93b426",
   "metadata": {},
   "outputs": [],
   "source": [
    "i=0\n",
    "for word in df['Whether Franchise']:\n",
    "    if word=='No':\n",
    "        df['Whether Franchise'][i] = 'Franchise'\n",
    "    else:\n",
    "        df['Whether Franchise'][i] = 'NotFranchise'\n",
    "    i+=1"
   ]
  },
  {
   "cell_type": "code",
   "execution_count": 26,
   "id": "a8b4cfba",
   "metadata": {},
   "outputs": [
    {
     "data": {
      "text/plain": [
       "Index(['Movie Name', 'Whether Remake', 'Whether Franchise', 'Genre',\n",
       "       'Lead Star', 'Director', 'Music Director', 'text'],\n",
       "      dtype='object')"
      ]
     },
     "execution_count": 26,
     "metadata": {},
     "output_type": "execute_result"
    }
   ],
   "source": [
    "df['text'] = \"\"\n",
    "df.columns"
   ]
  },
  {
   "cell_type": "code",
   "execution_count": 27,
   "id": "aa2bebe5",
   "metadata": {},
   "outputs": [],
   "source": [
    "# combining all colunms to single column\n",
    "for i in range(0,1695):\n",
    "    df['text'] = df['Whether Remake']+ \" \" + df['Whether Franchise']+ \" \" + df['Genre']+ \" \" + df['Lead Star']+ \" \" + df['Director']+ \" \" + df['Music Director'] + \" \" + df['Movie Name']"
   ]
  },
  {
   "cell_type": "code",
   "execution_count": 28,
   "id": "8c418e40",
   "metadata": {},
   "outputs": [
    {
     "data": {
      "text/plain": [
       "0       NotRemake NotFranchise suspense JeetGoswami Ra...\n",
       "1       NotRemake NotFranchise drama KaranBhanushali S...\n",
       "2       NotRemake NotFranchise thriller MahieGill RamG...\n",
       "3       NotRemake NotFranchise drama AadarJain HabibFa...\n",
       "4       NotRemake NotFranchise adult AadilKhan AadilKh...\n",
       "                              ...                        \n",
       "1693    NotRemake NotFranchise action ZayedKhan Vikram...\n",
       "1694    NotRemake NotFranchise drama ZeenatAman Sangha...\n",
       "1695    NotRemake NotFranchise drama ZeenatAman Sanjay...\n",
       "1696    NotRemake NotFranchise drama ZulfiSayed AkbarK...\n",
       "1697    NotRemake NotFranchise comedy ZulfiSayed Parth...\n",
       "Name: text, Length: 1698, dtype: object"
      ]
     },
     "execution_count": 28,
     "metadata": {},
     "output_type": "execute_result"
    }
   ],
   "source": [
    "df['text']"
   ]
  },
  {
   "cell_type": "code",
   "execution_count": 29,
   "id": "a42e95b3",
   "metadata": {},
   "outputs": [
    {
     "data": {
      "text/html": [
       "<div>\n",
       "<style scoped>\n",
       "    .dataframe tbody tr th:only-of-type {\n",
       "        vertical-align: middle;\n",
       "    }\n",
       "\n",
       "    .dataframe tbody tr th {\n",
       "        vertical-align: top;\n",
       "    }\n",
       "\n",
       "    .dataframe thead th {\n",
       "        text-align: right;\n",
       "    }\n",
       "</style>\n",
       "<table border=\"1\" class=\"dataframe\">\n",
       "  <thead>\n",
       "    <tr style=\"text-align: right;\">\n",
       "      <th></th>\n",
       "      <th>Movie Name</th>\n",
       "      <th>Whether Remake</th>\n",
       "      <th>Whether Franchise</th>\n",
       "      <th>Genre</th>\n",
       "      <th>Lead Star</th>\n",
       "      <th>Director</th>\n",
       "      <th>Music Director</th>\n",
       "      <th>text</th>\n",
       "    </tr>\n",
       "  </thead>\n",
       "  <tbody>\n",
       "    <tr>\n",
       "      <th>0</th>\n",
       "      <td>Golden Boys</td>\n",
       "      <td>NotRemake</td>\n",
       "      <td>NotFranchise</td>\n",
       "      <td>suspense</td>\n",
       "      <td>JeetGoswami</td>\n",
       "      <td>RaviVarma</td>\n",
       "      <td>BabaJagirdar</td>\n",
       "      <td>NotRemake NotFranchise suspense JeetGoswami Ra...</td>\n",
       "    </tr>\n",
       "    <tr>\n",
       "      <th>1</th>\n",
       "      <td>Kaccha Limboo</td>\n",
       "      <td>NotRemake</td>\n",
       "      <td>NotFranchise</td>\n",
       "      <td>drama</td>\n",
       "      <td>KaranBhanushali</td>\n",
       "      <td>SagarBallary</td>\n",
       "      <td>AmardeepNijjer</td>\n",
       "      <td>NotRemake NotFranchise drama KaranBhanushali S...</td>\n",
       "    </tr>\n",
       "    <tr>\n",
       "      <th>2</th>\n",
       "      <td>Not A Love Story</td>\n",
       "      <td>NotRemake</td>\n",
       "      <td>NotFranchise</td>\n",
       "      <td>thriller</td>\n",
       "      <td>MahieGill</td>\n",
       "      <td>RamGopalVerma</td>\n",
       "      <td>SandeepChowta</td>\n",
       "      <td>NotRemake NotFranchise thriller MahieGill RamG...</td>\n",
       "    </tr>\n",
       "    <tr>\n",
       "      <th>3</th>\n",
       "      <td>Qaidi Band</td>\n",
       "      <td>NotRemake</td>\n",
       "      <td>NotFranchise</td>\n",
       "      <td>drama</td>\n",
       "      <td>AadarJain</td>\n",
       "      <td>HabibFaisal</td>\n",
       "      <td>AmitTrivedi</td>\n",
       "      <td>NotRemake NotFranchise drama AadarJain HabibFa...</td>\n",
       "    </tr>\n",
       "    <tr>\n",
       "      <th>4</th>\n",
       "      <td>Chaatwali</td>\n",
       "      <td>NotRemake</td>\n",
       "      <td>NotFranchise</td>\n",
       "      <td>adult</td>\n",
       "      <td>AadilKhan</td>\n",
       "      <td>AadilKhan</td>\n",
       "      <td>BablooUstad</td>\n",
       "      <td>NotRemake NotFranchise adult AadilKhan AadilKh...</td>\n",
       "    </tr>\n",
       "    <tr>\n",
       "      <th>...</th>\n",
       "      <td>...</td>\n",
       "      <td>...</td>\n",
       "      <td>...</td>\n",
       "      <td>...</td>\n",
       "      <td>...</td>\n",
       "      <td>...</td>\n",
       "      <td>...</td>\n",
       "      <td>...</td>\n",
       "    </tr>\n",
       "    <tr>\n",
       "      <th>1693</th>\n",
       "      <td>Fight Club</td>\n",
       "      <td>NotRemake</td>\n",
       "      <td>NotFranchise</td>\n",
       "      <td>action</td>\n",
       "      <td>ZayedKhan</td>\n",
       "      <td>VikramChopra</td>\n",
       "      <td>Pritam</td>\n",
       "      <td>NotRemake NotFranchise action ZayedKhan Vikram...</td>\n",
       "    </tr>\n",
       "    <tr>\n",
       "      <th>1694</th>\n",
       "      <td>Strings Of Paasion</td>\n",
       "      <td>NotRemake</td>\n",
       "      <td>NotFranchise</td>\n",
       "      <td>drama</td>\n",
       "      <td>ZeenatAman</td>\n",
       "      <td>SanghamitraChaudhuri</td>\n",
       "      <td>DevSikdar</td>\n",
       "      <td>NotRemake NotFranchise drama ZeenatAman Sangha...</td>\n",
       "    </tr>\n",
       "    <tr>\n",
       "      <th>1695</th>\n",
       "      <td>Dunno Y Na Jaane Kyun</td>\n",
       "      <td>NotRemake</td>\n",
       "      <td>NotFranchise</td>\n",
       "      <td>drama</td>\n",
       "      <td>ZeenatAman</td>\n",
       "      <td>SanjaySharma</td>\n",
       "      <td>Nikhil</td>\n",
       "      <td>NotRemake NotFranchise drama ZeenatAman Sanjay...</td>\n",
       "    </tr>\n",
       "    <tr>\n",
       "      <th>1696</th>\n",
       "      <td>Taj Mahal - An Eternal Love Story</td>\n",
       "      <td>NotRemake</td>\n",
       "      <td>NotFranchise</td>\n",
       "      <td>drama</td>\n",
       "      <td>ZulfiSayed</td>\n",
       "      <td>AkbarKhan</td>\n",
       "      <td>Naushad</td>\n",
       "      <td>NotRemake NotFranchise drama ZulfiSayed AkbarK...</td>\n",
       "    </tr>\n",
       "    <tr>\n",
       "      <th>1697</th>\n",
       "      <td>Mr. Hot Mr. Kool</td>\n",
       "      <td>NotRemake</td>\n",
       "      <td>NotFranchise</td>\n",
       "      <td>comedy</td>\n",
       "      <td>ZulfiSayed</td>\n",
       "      <td>ParthoGhosh</td>\n",
       "      <td>Rishi-Ranjit</td>\n",
       "      <td>NotRemake NotFranchise comedy ZulfiSayed Parth...</td>\n",
       "    </tr>\n",
       "  </tbody>\n",
       "</table>\n",
       "<p>1698 rows × 8 columns</p>\n",
       "</div>"
      ],
      "text/plain": [
       "                             Movie Name Whether Remake Whether Franchise  \\\n",
       "0                           Golden Boys      NotRemake      NotFranchise   \n",
       "1                         Kaccha Limboo      NotRemake      NotFranchise   \n",
       "2                      Not A Love Story      NotRemake      NotFranchise   \n",
       "3                            Qaidi Band      NotRemake      NotFranchise   \n",
       "4                             Chaatwali      NotRemake      NotFranchise   \n",
       "...                                 ...            ...               ...   \n",
       "1693                         Fight Club      NotRemake      NotFranchise   \n",
       "1694                 Strings Of Paasion      NotRemake      NotFranchise   \n",
       "1695              Dunno Y Na Jaane Kyun      NotRemake      NotFranchise   \n",
       "1696  Taj Mahal - An Eternal Love Story      NotRemake      NotFranchise   \n",
       "1697                   Mr. Hot Mr. Kool      NotRemake      NotFranchise   \n",
       "\n",
       "         Genre        Lead Star              Director  Music Director  \\\n",
       "0     suspense      JeetGoswami             RaviVarma    BabaJagirdar   \n",
       "1        drama  KaranBhanushali          SagarBallary  AmardeepNijjer   \n",
       "2     thriller        MahieGill         RamGopalVerma   SandeepChowta   \n",
       "3        drama        AadarJain           HabibFaisal     AmitTrivedi   \n",
       "4        adult        AadilKhan             AadilKhan     BablooUstad   \n",
       "...        ...              ...                   ...             ...   \n",
       "1693    action        ZayedKhan          VikramChopra          Pritam   \n",
       "1694     drama       ZeenatAman  SanghamitraChaudhuri       DevSikdar   \n",
       "1695     drama       ZeenatAman          SanjaySharma          Nikhil   \n",
       "1696     drama       ZulfiSayed             AkbarKhan         Naushad   \n",
       "1697    comedy       ZulfiSayed           ParthoGhosh    Rishi-Ranjit   \n",
       "\n",
       "                                                   text  \n",
       "0     NotRemake NotFranchise suspense JeetGoswami Ra...  \n",
       "1     NotRemake NotFranchise drama KaranBhanushali S...  \n",
       "2     NotRemake NotFranchise thriller MahieGill RamG...  \n",
       "3     NotRemake NotFranchise drama AadarJain HabibFa...  \n",
       "4     NotRemake NotFranchise adult AadilKhan AadilKh...  \n",
       "...                                                 ...  \n",
       "1693  NotRemake NotFranchise action ZayedKhan Vikram...  \n",
       "1694  NotRemake NotFranchise drama ZeenatAman Sangha...  \n",
       "1695  NotRemake NotFranchise drama ZeenatAman Sanjay...  \n",
       "1696  NotRemake NotFranchise drama ZulfiSayed AkbarK...  \n",
       "1697  NotRemake NotFranchise comedy ZulfiSayed Parth...  \n",
       "\n",
       "[1698 rows x 8 columns]"
      ]
     },
     "execution_count": 29,
     "metadata": {},
     "output_type": "execute_result"
    }
   ],
   "source": [
    "df"
   ]
  },
  {
   "cell_type": "code",
   "execution_count": 30,
   "id": "dd7b8a19",
   "metadata": {},
   "outputs": [],
   "source": [
    "df.drop(['Whether Remake', 'Whether Franchise', 'Genre','Lead Star', 'Director', 'Music Director'],axis = 1,inplace = True)"
   ]
  },
  {
   "cell_type": "code",
   "execution_count": 31,
   "id": "46da6c7a",
   "metadata": {},
   "outputs": [],
   "source": [
    "\n",
    "def TextTransform(text):\n",
    "    text = text.lower()\n",
    "    text = nltk.word_tokenize(text)\n",
    "    \n",
    "    y =[]\n",
    "    for i in text:\n",
    "        if(i.isalnum()):\n",
    "            y.append(i)\n",
    "    \n",
    "    text = y[:]\n",
    "    y.clear()\n",
    "    \n",
    "    for i in text:\n",
    "        if(i not in stopwords.words('english') and i not in string.punctuation and i.isnumeric()==False):\n",
    "            y.append(i)\n",
    "    \n",
    "    text = y[:]\n",
    "    y.clear()\n",
    "    \n",
    "    for i in text:\n",
    "        y.append(ps.stem(i))\n",
    "        \n",
    "    return \" \".join(y)    # => this will return in series format "
   ]
  },
  {
   "cell_type": "code",
   "execution_count": 32,
   "id": "7f8e18a0",
   "metadata": {},
   "outputs": [
    {
     "data": {
      "text/plain": [
       "0       notremak notfranchis suspens jeetgoswami raviv...\n",
       "1       notremak notfranchis drama karanbhanushali sag...\n",
       "2       notremak notfranchis thriller mahiegil ramgopa...\n",
       "3       notremak notfranchis drama aadarjain habibfais...\n",
       "4       notremak notfranchis adult aadilkhan aadilkhan...\n",
       "                              ...                        \n",
       "1693    notremak notfranchis action zayedkhan vikramch...\n",
       "1694    notremak notfranchis drama zeenataman sanghami...\n",
       "1695    notremak notfranchis drama zeenataman sanjaysh...\n",
       "1696    notremak notfranchis drama zulfisay akbarkhan ...\n",
       "1697    notremak notfranchis comedi zulfisay parthogho...\n",
       "Name: text, Length: 1698, dtype: object"
      ]
     },
     "execution_count": 32,
     "metadata": {},
     "output_type": "execute_result"
    }
   ],
   "source": [
    "df['text'].apply(lambda x:TextTransform(x))"
   ]
  },
  {
   "cell_type": "code",
   "execution_count": 33,
   "id": "88252323",
   "metadata": {},
   "outputs": [
    {
     "data": {
      "text/plain": [
       "'NotRemake NotFranchise suspense JeetGoswami RaviVarma BabaJagirdar Golden Boys'"
      ]
     },
     "execution_count": 33,
     "metadata": {},
     "output_type": "execute_result"
    }
   ],
   "source": [
    "df['text'][0]"
   ]
  },
  {
   "cell_type": "code",
   "execution_count": 34,
   "id": "69b8ceeb",
   "metadata": {},
   "outputs": [],
   "source": [
    "df['target'] = -1"
   ]
  },
  {
   "cell_type": "code",
   "execution_count": 35,
   "id": "af58ce18",
   "metadata": {},
   "outputs": [
    {
     "data": {
      "text/plain": [
       "Movie Name    0\n",
       "text          0\n",
       "target        0\n",
       "dtype: int64"
      ]
     },
     "execution_count": 35,
     "metadata": {},
     "output_type": "execute_result"
    }
   ],
   "source": [
    "df.isnull().sum()"
   ]
  },
  {
   "cell_type": "code",
   "execution_count": 36,
   "id": "b5d274fc",
   "metadata": {},
   "outputs": [
    {
     "name": "stderr",
     "output_type": "stream",
     "text": [
      "<ipython-input-36-3e1e38d1572d>:5: SettingWithCopyWarning: \n",
      "A value is trying to be set on a copy of a slice from a DataFrame\n",
      "\n",
      "See the caveats in the documentation: https://pandas.pydata.org/pandas-docs/stable/user_guide/indexing.html#returning-a-view-versus-a-copy\n",
      "  df['target'][i] = i\n"
     ]
    }
   ],
   "source": [
    "index_dict = {} # this dictionary will store the movie name with its index\n",
    "index_movie = {} # this dictionary will store the index wrt movie name\n",
    "i=0\n",
    "while i<1697:\n",
    "    df['target'][i] = i\n",
    "    i+=1"
   ]
  },
  {
   "cell_type": "code",
   "execution_count": 37,
   "id": "7885e21b",
   "metadata": {},
   "outputs": [],
   "source": [
    "for i in range(0,1696):\n",
    "    if(i==683 or i==1269):\n",
    "        continue\n",
    "    index_dict[df['Movie Name'][i]] = df['target'][i]\n",
    "    index_movie[df['target'][i]] = df['Movie Name'][i]"
   ]
  },
  {
   "cell_type": "code",
   "execution_count": 38,
   "id": "b5d5d01c",
   "metadata": {},
   "outputs": [
    {
     "data": {
      "text/plain": [
       "1695"
      ]
     },
     "execution_count": 38,
     "metadata": {},
     "output_type": "execute_result"
    }
   ],
   "source": [
    "# df\n",
    "index_dict[df['Movie Name'][1695]]\n",
    "# index_movie[1695]"
   ]
  },
  {
   "cell_type": "markdown",
   "id": "ae46a29e",
   "metadata": {},
   "source": [
    "# Model Building (by creating vectors)"
   ]
  },
  {
   "cell_type": "code",
   "execution_count": 39,
   "id": "8f5be3cd",
   "metadata": {},
   "outputs": [],
   "source": [
    "from sklearn.feature_extraction.text import TfidfVectorizer\n",
    "tv = TfidfVectorizer()"
   ]
  },
  {
   "cell_type": "code",
   "execution_count": 40,
   "id": "e5012f5b",
   "metadata": {},
   "outputs": [],
   "source": [
    "vectors = tv.fit_transform(df['text']).toarray()"
   ]
  },
  {
   "cell_type": "code",
   "execution_count": 41,
   "id": "f8b53365",
   "metadata": {},
   "outputs": [
    {
     "data": {
      "text/plain": [
       "array([0., 0., 0., ..., 0., 0., 0.])"
      ]
     },
     "execution_count": 41,
     "metadata": {},
     "output_type": "execute_result"
    }
   ],
   "source": [
    "vectors[0]"
   ]
  },
  {
   "cell_type": "code",
   "execution_count": 42,
   "id": "b37a660a",
   "metadata": {},
   "outputs": [],
   "source": [
    "from sklearn.metrics.pairwise import cosine_similarity"
   ]
  },
  {
   "cell_type": "code",
   "execution_count": 43,
   "id": "3cae1756",
   "metadata": {},
   "outputs": [],
   "source": [
    "similarity = cosine_similarity(vectors)"
   ]
  },
  {
   "cell_type": "code",
   "execution_count": 44,
   "id": "1944384e",
   "metadata": {},
   "outputs": [],
   "source": [
    "# import bisect\n",
    "# ls = list(enumerate(similarity[945])\n",
    "# bisect.insort_right[ls]"
   ]
  },
  {
   "cell_type": "code",
   "execution_count": null,
   "id": "a16bf9d2",
   "metadata": {},
   "outputs": [],
   "source": []
  },
  {
   "cell_type": "code",
   "execution_count": 45,
   "id": "714af8c3",
   "metadata": {},
   "outputs": [
    {
     "data": {
      "text/plain": [
       "3"
      ]
     },
     "execution_count": 45,
     "metadata": {},
     "output_type": "execute_result"
    }
   ],
   "source": [
    "df.drop_duplicates(keep='first')\n",
    "df['text'].duplicated().sum()"
   ]
  },
  {
   "cell_type": "code",
   "execution_count": 46,
   "id": "217aeace",
   "metadata": {},
   "outputs": [
    {
     "data": {
      "text/plain": [
       "0     947\n",
       "1    1367\n",
       "2     848\n",
       "3     484\n",
       "4     588\n",
       "Name: 0, dtype: int64"
      ]
     },
     "execution_count": 46,
     "metadata": {},
     "output_type": "execute_result"
    }
   ],
   "source": [
    "ls1 = pd.DataFrame(sorted(list(enumerate(similarity[946])),reverse=True,key=lambda x:x[1])[1:6])\n",
    "ls1[0]"
   ]
  },
  {
   "cell_type": "code",
   "execution_count": 47,
   "id": "dade926c",
   "metadata": {},
   "outputs": [
    {
     "data": {
      "text/plain": [
       "'Love Games'"
      ]
     },
     "execution_count": 47,
     "metadata": {},
     "output_type": "execute_result"
    }
   ],
   "source": [
    "ls2 = pd.DataFrame(sorted(list(enumerate(similarity[945])),reverse=True,key=lambda x:x[1])[1:6])\n",
    "ls2[0][0]\n",
    "index_movie[ls2[0][0]]"
   ]
  },
  {
   "cell_type": "code",
   "execution_count": null,
   "id": "b2fd1e40",
   "metadata": {},
   "outputs": [],
   "source": []
  },
  {
   "cell_type": "code",
   "execution_count": null,
   "id": "6f2ea90b",
   "metadata": {},
   "outputs": [],
   "source": []
  },
  {
   "cell_type": "code",
   "execution_count": 68,
   "id": "6326d74d",
   "metadata": {},
   "outputs": [],
   "source": [
    "def predict():\n",
    "    movie = input(\"Enter Movie Name from the list:- \")\n",
    "    try:\n",
    "        movie_index = index_dict[movie]\n",
    "        movie_index = int(movie_index)\n",
    "        ls = pd.DataFrame(sorted(list(enumerate(similarity[movie_index])),reverse=True,key=lambda x:x[1])[1:6])\n",
    "        for i in ls[0]:\n",
    "            print(index_movie[i])\n",
    "    except:\n",
    "        print(\"No Record Found !!! \")"
   ]
  },
  {
   "cell_type": "code",
   "execution_count": 69,
   "id": "1e4a0b0a",
   "metadata": {},
   "outputs": [
    {
     "data": {
      "text/plain": [
       "946    Bahubali - The Beginning\n",
       "Name: Movie Name, dtype: object"
      ]
     },
     "execution_count": 69,
     "metadata": {},
     "output_type": "execute_result"
    }
   ],
   "source": [
    "df[df['target']==946]['Movie Name']"
   ]
  },
  {
   "cell_type": "code",
   "execution_count": 70,
   "id": "29654c48",
   "metadata": {},
   "outputs": [
    {
     "data": {
      "text/plain": [
       "946"
      ]
     },
     "execution_count": 70,
     "metadata": {},
     "output_type": "execute_result"
    }
   ],
   "source": [
    "index_dict['Bahubali - The Beginning']"
   ]
  },
  {
   "cell_type": "code",
   "execution_count": 71,
   "id": "ef43d553",
   "metadata": {},
   "outputs": [
    {
     "data": {
      "text/plain": [
       "'Bahubali - The Beginning'"
      ]
     },
     "execution_count": 71,
     "metadata": {},
     "output_type": "execute_result"
    }
   ],
   "source": [
    "index_movie[946]"
   ]
  },
  {
   "cell_type": "code",
   "execution_count": 72,
   "id": "a1cd719b",
   "metadata": {},
   "outputs": [
    {
     "name": "stdout",
     "output_type": "stream",
     "text": [
      "Enter Movie Name from the list:- Bahubali - The Beginning\n",
      "Bahubali 2 - The Conclusion\n",
      "Paheli\n",
      "Dhokha\n",
      "Lahore\n",
      "Rog\n"
     ]
    }
   ],
   "source": [
    "predict()"
   ]
  },
  {
   "cell_type": "code",
   "execution_count": 73,
   "id": "9c30aea9",
   "metadata": {},
   "outputs": [
    {
     "name": "stdout",
     "output_type": "stream",
     "text": [
      "Enter Movie Name from the list:- Bahubali 2 - The Conclusion\n",
      "Bahubali - The Beginning\n",
      "Paheli\n",
      "Dhokha\n",
      "Lahore\n",
      "Rog\n"
     ]
    }
   ],
   "source": [
    "predict()"
   ]
  },
  {
   "cell_type": "code",
   "execution_count": 74,
   "id": "5b1dbd0d",
   "metadata": {
    "scrolled": true
   },
   "outputs": [
    {
     "name": "stdout",
     "output_type": "stream",
     "text": [
      "Enter Movie Name from the list:- Dangal\n",
      "Dhoom 3\n",
      "Taare Zameen Par\n",
      "Bhoothnath Returns\n",
      "Chillar Party\n",
      "3 Idiots\n"
     ]
    }
   ],
   "source": [
    "predict()"
   ]
  },
  {
   "cell_type": "code",
   "execution_count": 75,
   "id": "8eb29999",
   "metadata": {},
   "outputs": [
    {
     "name": "stdout",
     "output_type": "stream",
     "text": [
      "Enter Movie Name from the list:- Tanhaji\n",
      "No Record Found !!! \n"
     ]
    }
   ],
   "source": [
    "predict() # as this movie not in list it will not have any record"
   ]
  },
  {
   "cell_type": "code",
   "execution_count": null,
   "id": "6f2e436d",
   "metadata": {},
   "outputs": [],
   "source": []
  }
 ],
 "metadata": {
  "kernelspec": {
   "display_name": "Python 3",
   "language": "python",
   "name": "python3"
  },
  "language_info": {
   "codemirror_mode": {
    "name": "ipython",
    "version": 3
   },
   "file_extension": ".py",
   "mimetype": "text/x-python",
   "name": "python",
   "nbconvert_exporter": "python",
   "pygments_lexer": "ipython3",
   "version": "3.8.8"
  }
 },
 "nbformat": 4,
 "nbformat_minor": 5
}
